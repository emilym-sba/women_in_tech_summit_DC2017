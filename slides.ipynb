{
 "cells": [
  {
   "cell_type": "raw",
   "metadata": {
    "slideshow": {
     "slide_type": "skip"
    }
   },
   "source": [
    "<script type=\"text/javascript\">\n",
    "\n",
    "$(document).ready(function(){\n",
    "\n",
    "    Reveal.configure({\n",
    "        transition: 'convex' // none/fade/slide/convex/concave/zoom\n",
    "    })\n",
    "});    \n",
    "</script>"
   ]
  },
  {
   "cell_type": "markdown",
   "metadata": {
    "slideshow": {
     "slide_type": "slide"
    }
   },
   "source": [
    "# <center>Hi.</center>\n",
    "\n",
    "\n",
    "\n",
    "\n",
    "\n",
    "\n",
    "\n",
    "<center>\n",
    "<p>Everything for this workshop is available online here https://github.com/nd1/women_in_tech_summit_DC2017\n",
    "</center>"
   ]
  },
  {
   "cell_type": "markdown",
   "metadata": {
    "slideshow": {
     "slide_type": "slide"
    }
   },
   "source": [
    "# <center>Accessing APIs with Python</center>\n",
    "\n",
    "\n",
    "<br/>\n",
    "<p> <b>Nicole Donnelly</b>\n",
    "\n",
    "\n",
    "[The Women in Technology Summit, Washington DC 2017](https://womenintechsummit.net/washington/)"
   ]
  },
  {
   "cell_type": "markdown",
   "metadata": {
    "slideshow": {
     "slide_type": "notes"
    }
   },
   "source": [
    "Hello! My name is Nicole Donnelly.\n",
    "\n",
    "I am going to present a workshop of data collection, specifically using python to collect data from APIs and to build a basic web scraper.\n",
    "\n",
    "To that end..."
   ]
  },
  {
   "cell_type": "markdown",
   "metadata": {
    "slideshow": {
     "slide_type": "subslide"
    }
   },
   "source": [
    "# <center> Who Are You?  </center>"
   ]
  },
  {
   "cell_type": "markdown",
   "metadata": {
    "slideshow": {
     "slide_type": "fragment"
    }
   },
   "source": [
    "<center> How many people know python?  </center>\n",
    "<center> How many people have used RSS? </center>\n",
    "<center> How many people have used APIs? </center>"
   ]
  },
  {
   "cell_type": "markdown",
   "metadata": {
    "slideshow": {
     "slide_type": "subslide"
    }
   },
   "source": [
    "# <center> Who Am I? </center>"
   ]
  },
  {
   "cell_type": "markdown",
   "metadata": {
    "slideshow": {
     "slide_type": "fragment"
    }
   },
   "source": [
    "<center> I really love data. </center>\n",
    "<center> I work for DC. </center>"
   ]
  },
  {
   "cell_type": "markdown",
   "metadata": {
    "slideshow": {
     "slide_type": "notes"
    }
   },
   "source": [
    "I know a lot of people, especially here, probably love data. But I really love data. \n",
    "\n",
    "Data is my happy place.\n",
    "\n",
    "Some people nurture plants, or animals, or children.\n",
    "\n",
    "I want to nurture data.\n",
    "\n",
    "I want it to become the best data it can be. I want it to help people. I want it to be happy.\n",
    "\n",
    "In my past life as a consultant, I spent a lot of time with data. I worked in computer forensics and electronic discovery. I collected data, inventoried it, organized it, gave it context, analyzed it, reconstructed it, reported on it, and put it in useful formats for people to review and use. I was frequently asked to help inventory and organize data for other projects because I am good at it and I enjoy it.\n",
    "\n",
    "I decided to make a career change to data science. I completed the professional certificate in data science at Georgetown, became the TA, and joined the faculty. I am also on the faculty at District Data Labs. I completed the Data Science Immersive at Genral Assembly. And now I work for the city in the Office of the Chief Technology Officer where I am detailed to the Office of Unified Communication to work on their data analysis and projects. "
   ]
  },
  {
   "cell_type": "markdown",
   "metadata": {
    "slideshow": {
     "slide_type": "slide"
    }
   },
   "source": [
    "# <center>Agenda</center>\n",
    "\n",
    "<p>\n",
    "### An Overview\n",
    "* What are APIs?\n",
    "* Where are APIs?\n",
    "* How do I access APIs?\n",
    "* What is the API giving me?\n",
    "\n",
    "### Hands-on\n",
    "* RSS (notebook)\n",
    "* REST APIs with Authentication (notebook)\n",
    "* Scripting API Calls (script)"
   ]
  },
  {
   "cell_type": "markdown",
   "metadata": {
    "slideshow": {
     "slide_type": "notes"
    }
   },
   "source": [
    "I am going to assume people can navigate from the command line, have python installed, and have some experience with python.\n",
    "\n",
    "I am also going to assume people have not tried using APIs.\n",
    "\n",
    "I created a notebook so we can go through some of the python and you can see what it is doing.\n",
    "\n",
    "I have also created some scripts you can run when you are ready. Feel free to modify them to suit your needs. Or, if you have some experience with all of this, feel free to play around with those instead of the notebook.\n",
    "\n",
    "If you are new to all of this, including python, I have included some resources at the end of the slides."
   ]
  },
  {
   "cell_type": "markdown",
   "metadata": {
    "slideshow": {
     "slide_type": "slide"
    }
   },
   "source": [
    "# <center>What are APIs?</center>"
   ]
  },
  {
   "cell_type": "markdown",
   "metadata": {
    "slideshow": {
     "slide_type": "subslide"
    }
   },
   "source": [
    "## <center>Application Programming Interface</center>\n",
    "\n",
    "\n",
    "“In the simplest terms, APIs are sets of requirements that govern how one application can talk to another.”\n",
    "\n",
    "\n",
    "\n",
    "“APIs are what make it possible to move information between programs....”\n",
    "\n",
    "\n",
    "\n",
    "*Source: http://readwrite.com/2013/09/19/api-defined*"
   ]
  },
  {
   "cell_type": "markdown",
   "metadata": {
    "slideshow": {
     "slide_type": "slide"
    }
   },
   "source": [
    "# <center>Where are APIs?</center>"
   ]
  },
  {
   "cell_type": "markdown",
   "metadata": {
    "slideshow": {
     "slide_type": "subslide"
    }
   },
   "source": [
    "![apis](./img/APIs.png)"
   ]
  },
  {
   "cell_type": "markdown",
   "metadata": {
    "slideshow": {
     "slide_type": "notes"
    }
   },
   "source": [
    "Everywhere.\n",
    "\n",
    "Copy/ paste is possible because of APIs.\n",
    "\n",
    "Common API examples:\n",
    "\n",
    "* Icons to share an article from a website\n",
    "* Disqus comment system\n",
    "* RSS readers (rss is an api)(Really Simple Syndication)"
   ]
  },
  {
   "cell_type": "markdown",
   "metadata": {
    "slideshow": {
     "slide_type": "slide"
    }
   },
   "source": [
    "# <center>What is RSS?</center>"
   ]
  },
  {
   "cell_type": "markdown",
   "metadata": {
    "slideshow": {
     "slide_type": "subslide"
    }
   },
   "source": [
    "## <center>RSS</center>\n",
    "\n",
    "\n",
    "“RSS is an XML-based vocabulary for distributing Web content in opt-in feeds. Feeds allow the user to have new content delivered to a computer or mobile device as soon as it is published. ”\n",
    "\n",
    "\n",
    "\n",
    "*Source: http://searchwindevelopment.techtarget.com/definition/RSS*"
   ]
  },
  {
   "cell_type": "markdown",
   "metadata": {
    "slideshow": {
     "slide_type": "notes"
    }
   },
   "source": [
    "RSS stands is defined as an acrony mulitple ways: Rich Site Summary, RDF (Resource Description Framework) Site Summary, Really Simple Syndication. It is an XML based content distribution format commonly used for blog and news data. We can use it to transfer and collect data. Typically, it is used to read blogs and news. RSS retrieval can also be operationalized to create a corpus for analysis."
   ]
  },
  {
   "cell_type": "markdown",
   "metadata": {
    "slideshow": {
     "slide_type": "subslide"
    }
   },
   "source": [
    "## <center>Is RSS an API?</center>"
   ]
  },
  {
   "cell_type": "markdown",
   "metadata": {
    "slideshow": {
     "slide_type": "subslide"
    }
   },
   "source": [
    "![baleen](./img/space_whale_by_hbitik-d4736q3.jpg)\n",
    "\n",
    "[\"Space Whale\"](http://hbitik.deviantart.com/art/Space-Whale-253770699) by [hbitik](http://hbitik.deviantart.com/) is licensed under [CC BY-NC-ND 3.0](https://creativecommons.org/licenses/by-nc-nd/3.0/)"
   ]
  },
  {
   "cell_type": "markdown",
   "metadata": {
    "slideshow": {
     "slide_type": "notes"
    }
   },
   "source": [
    "Side note: if you are looking for an open source project to get involved with and are interested in operationalizing RSS, check out [Baleen](https://github.com/bbengfort/baleen)"
   ]
  },
  {
   "cell_type": "markdown",
   "metadata": {
    "slideshow": {
     "slide_type": "slide"
    }
   },
   "source": [
    "# <center>How do I access RSS and APIs?</center>"
   ]
  },
  {
   "cell_type": "markdown",
   "metadata": {
    "slideshow": {
     "slide_type": "subslide"
    }
   },
   "source": [
    "Context: I will focus on RSS and REST APIs with JSON. \n",
    "\n",
    "Read more about API types [here](https://ffeathers.wordpress.com/2014/02/16/api-types/)\n",
    "    \n"
   ]
  },
  {
   "cell_type": "markdown",
   "metadata": {
    "slideshow": {
     "slide_type": "fragment"
    }
   },
   "source": [
    "## <center>RSS</center>\n",
    "[http://dvd.netflix.com/NewReleasesRSS](http://dvd.netflix.com/NewReleasesRSS)\n",
    "\n",
    "```\n",
    "<?xml version=\"1.0\" encoding=\"UTF-8\" standalone=\"yes\"?>\n",
    "\n",
    "<rss version=\"2.0\" xmlns:atom=\"http://www.w3.org/2005/Atom\" >\n",
    "  <channel >\n",
    "    <title>New Releases This Week</title>\n",
    "    <ttl>10080</ttl>\n",
    "    <link>http://dvd.netflix.com</link>\n",
    "    <description>New movies at Netflix this week</description>\n",
    "    <language>en-us</language>\n",
    "    <cf:treatAs xmlns:cf=\"http://www.microsoft.com/schemas/rss/core/2005\">list</cf:treatAs>\n",
    "    <atom:link href=\"http://dvd.netflix.com/NewReleasesRSS\" rel=\"self\" type=\"application/rss+xml\"/>\n",
    "    <item>\n",
    "      <title>Bakery in Brooklyn</title>\n",
    "      <link>https://dvd.netflix.com/Movie/Bakery-in-Brooklyn/80152426</link>\n",
    "      <guid isPermaLink=\"true\">https://dvd.netflix.com/Movie/Bakery-in-Brooklyn/80152426</guid>\n",
    "      <description>&lt;a href=&quot;https://dvd.netflix.com/Movie/Bakery-in-Brooklyn/80152426&quot;&gt;&lt;img src=&quot;//secure.netflix.com/us/boxshots/small/80152426.jpg&quot;/&gt;&lt;/a&gt;&lt;br&gt;Vivien and Chloe have just inherited their Aunt's bakery, a boulangerie that has been a cornerstone of the neighborhood for years. Chloe wants a new image and product, while Vivien wants to make sure nothing changes. Their clash of ideas leads to a peculiar solution, they split the shop in half. But Vivien and Chloe will have to learn to overcome their differences in order to save the bakery and everything that truly matters in their lives.</description>\n",
    "    </item>\n",
    "    ```\n"
   ]
  },
  {
   "cell_type": "markdown",
   "metadata": {
    "slideshow": {
     "slide_type": "subslide"
    }
   },
   "source": [
    "Context: I will focus on RSS and REST APIs with JSON. \n",
    "\n",
    "Read more about API types [here](https://ffeathers.wordpress.com/2014/02/16/api-types/)\n",
    "\n",
    "\n",
    "## <center>API</center>\n",
    "[http://dev.markitondemand.com/Api/Quote/json?symbol=AAPL](http://dev.markitondemand.com/Api/Quote/json?symbol=AAPL)\n",
    "\n",
    "```\n",
    "    {\"Data\":{\"Status\":\"SUCCESS\",\"Name\":\"Apple Inc\",\"Symbol\":\"AAPL\",\"LastPrice\":117.12,\"Change\":-0.349999999999994,\"ChangePercent\":-0.297948412360598,\"Timestamp\":\"Wed Oct 19 00:00:00 UTC-04:00 2016\",\"MarketCap\":631094444160,\"Volume\":20034594,\"ChangeYTD\":105.26,\"ChangePercentYTD\":11.2673380201406,\"High\":117.76,\"Low\":113.8,\"Open\":117.25}}\n",
    "```\n",
    "    "
   ]
  },
  {
   "cell_type": "markdown",
   "metadata": {
    "slideshow": {
     "slide_type": "notes"
    }
   },
   "source": [
    "It is as easy as constructing the correct url!\n",
    "\n",
    "REST was influenced by HTTP so is almost always implemented that way."
   ]
  },
  {
   "cell_type": "markdown",
   "metadata": {
    "slideshow": {
     "slide_type": "subslide"
    }
   },
   "source": [
    "http://api.dp.la/v2/items?api_key=<font color=\"red\">0123456789</font>&q=goats+AND+cats\n",
    "\n",
    "    {\"count\":29,\n",
    "    \"start\":0,\n",
    "    \"limit\":10,\n",
    "    \"docs\":[{\"@context\":\"http://dp.la/api/items/context\",\"isShownAt\":\"http://cdm16795.contentdm.oclc.org/cdm/ref/collection/divtour/id/88\",\"dataProvider\":\"Missouri State Archives through Missouri Digital Heritage\",\"@type\":\"ore:Aggregation\",\"provider\":{\"@id\":\"http://dp.la/api/contributor/missouri-hub\",\"name\":\"Missouri Hub\"},\"hasView\":{\"@id\":\"http://cdm16795.contentdm.oclc.org/cdm/ref/collection/divtour/id/88\"},\"object\":\"http://data.mohistory.org/files/thumbnails/cdm16795_contentdm_oclc_org568ad334407e0.jpg\",\"ingestionSequence\":12,\"id\":\"9e05f398ca95f9bbfd733e6d3493fd74\",\"ingestDate\":\"2016-10-11T13:21:48.399681Z\",\"_rev\":\"7-6bee4d18708d1d16efceeea1e061b316\",\"aggregatedCHO\":\"#sourceResource\",\"_id\":\"missouri--urn:data.mohistory.org:mdh_all:oai:cdm16795.contentdm.oclc.org:divtour/88\",\"sourceResource\":{\"title\":[\"Alabama Big Cats Safari Adventure\"],\"description\":[\"Children bottle feeding goats\"],\"subject\":[{\"name\":\"Transparencies, Slides\"},{\"name\":\"Tourist Destination\"}],\"rights\":[\"Copyright is in the public domain. Items reproduced for publication should carry the credit line: Courtesy of the Missouri State Archives.\"],\"relation\":[\"Division of Tourism Photograph Collection\"],\"language\":[{\"iso639_3\":\"eng\",\"name\":\"English\"}],\"format\":\"Image\",\"collection\":{\"id\":\"594a2b3666ab0c55245f6640555554cd\",\"description\":\"\",\"title\":\"Mdh_divtour\",\"@id\":\"http://dp.la/api/collections/594a2b3666ab0c55245f6640555554cd\"},\"stateLocatedIn\":[{\"name\":\"Missouri\"}],\"@id\":\"http://dp.la/api/items/9e05f398ca95f9bbfd733e6d3493fd74#sourceResource\",\"identifier\":[\"001_070\",\"http://cdm16795.contentdm.oclc.org/cdm/ref/collection/divtour/id/88\"],\"creator\":[\"GD\"]},\"admin\":{\"validation_message\":null,\"sourceResource\":{\"title\":\"Alabama Big Cats Safari Adventure\"},\"valid_after_enrich\":true},\"ingestType\":\"item\",\"@id\":\"http://dp.la/api/items/9e05f398ca95f9bbfd733e6d3493fd74\",\"originalRecord\":{\"id\":\"urn:data.mohistory.org:mdh_all:oai:cdm16795.contentdm.oclc.org:divtour/88\",\"provider\":{\"@id\":\"http://dp.la/api/contributor/missouri-hub\",\"name\":\"Missouri Hub\"},\"collection\":{\"id\":\"594a2b3666ab0c55245f6640555554cd\",\"description\":\"\",\"title\":\"mdh_divtour\",\"@id\":\"http://dp.la/api/collections/594a2b3666ab0c55245f6640555554cd\"},\"header\":{\"expirationdatetime\":\"2016-10-08T17:04:17Z\",\"datestamp\":\"2016-10-04T13:19:05Z\",\"identifier\":\"urn:data.mohistory.org:mdh_all:oai:cdm16795.contentdm.oclc.org:divtour/88\",\"setSpec\":\"mdh_divtour\"},\"metadata\":{\"mods\":{\"accessCondition\":\"Copyright is in the public domain. Items reproduced for publication should carry the credit line: Courtesy of the Missouri State Archives.\",\"location\":{\"url\":[{\"#text\":\"http://cdm16795.contentdm.oclc.org/cdm/ref/collection/divtour/id/88\",\"access\":\"object in context\"},{\"#text\":\"http://data.mohistory.org/files/thumbnails/cdm16795_contentdm_oclc_org568ad334407e0.jpg\",\"access\":\"preview\"}]},\"subject\":[{\"topic\":\"Transparencies, Slides\"},{\"topic\":\"Tourist Destination\"}],\"name\":{\"namePart\":\"GD\",\"role\":{\"roleTerm\":\"creator\"}},\"relatedItem\":{\"titleInfo\":{\"title\":\"Division of Tourism Photograph Collection\"}},\"physicalDescription\":{\"note\":\"Image\"},\"xmlns\":\"http://www.loc.gov/mods/v3\",\"language\":{\"languageTerm\":\"eng\"},\"titleInfo\":{\"title\":\"Alabama Big Cats Safari Adventure\"},\"identifier\":[\"001_070\",\"http://cdm16795.contentdm.oclc.org/cdm/ref/collection/divtour/id/88\"],\"note\":[\"Children bottle feeding goats\",{\"#text\":\"Missouri State Archives through Missouri Digital Heritage\",\"type\":\"ownership\"}]}}},\"score\":4.534843}, ... \n",
    "    \"facets\":[]}"
   ]
  },
  {
   "cell_type": "markdown",
   "metadata": {
    "slideshow": {
     "slide_type": "notes"
    }
   },
   "source": [
    "Sometimes you will need an API key."
   ]
  },
  {
   "cell_type": "markdown",
   "metadata": {
    "slideshow": {
     "slide_type": "subslide"
    }
   },
   "source": [
    "# <center>What is the API giving me?</center>"
   ]
  },
  {
   "cell_type": "markdown",
   "metadata": {
    "slideshow": {
     "slide_type": "subslide"
    }
   },
   "source": [
    "[http://dev.markitondemand.com/Api/Quote/json?symbol=AAPL](http://dev.markitondemand.com/Api/Quote/json?symbol=AAPL)\n",
    "\n",
    "    {\"Data\":{\"Status\":\"SUCCESS\",\"Name\":\"Apple Inc\",\"Symbol\":\"AAPL\",\"LastPrice\":117.06,\"Change\":-0.0600000000000023,\"ChangePercent\":-0.0512295081967233,\"Timestamp\":\"Thu Oct 20 00:00:00 UTC-04:00 2016\",\"MarketCap\":630771137580,\"Volume\":24059570,\"ChangeYTD\":105.26,\"ChangePercentYTD\":11.2103363100893,\"High\":117.38,\"Low\":116.33,\"Open\":116.86}}\n",
    "\n",
    "\n",
    "[http://dev.markitondemand.com/Api/Quote/xml?symbol=AAPL](http://dev.markitondemand.com/Api/Quote/xml?symbol=AAPL)\n",
    "```\n",
    "<QuoteApiModel>\n",
    "<Data>\n",
    "<Status>SUCCESS</Status>\n",
    "<Name>Apple Inc</Name>\n",
    "<Symbol>AAPL</Symbol>\n",
    "<LastPrice>117.06</LastPrice>\n",
    "<Change>-0.06</Change>\n",
    "<ChangePercent>-0.0512295082</ChangePercent>\n",
    "<Timestamp>Thu Oct 20 00:00:00 UTC-04:00 2016</Timestamp>\n",
    "<MarketCap>630771137580</MarketCap>\n",
    "<Volume>24059570</Volume>\n",
    "<ChangeYTD>105.26</ChangeYTD>\n",
    "<ChangePercentYTD>11.2103363101</ChangePercentYTD>\n",
    "<High>117.38</High>\n",
    "<Low>116.33</Low>\n",
    "<Open>116.86</Open>\n",
    "</Data>\n",
    "</QuoteApiModel>```"
   ]
  },
  {
   "cell_type": "markdown",
   "metadata": {
    "slideshow": {
     "slide_type": "notes"
    }
   },
   "source": [
    "APIs return serialized data.\n",
    "\n",
    "JSON stands for \"JavaScript Object Notation\", and has become a universal standard for serializing native data structures for transmission. It is light-weight, easy to read, and quick to parse. It is easy to use in python with the json library.\n",
    "\n",
    "XML stands for \"eXtensible Markup Language\", and is the granddaddy of serialized data formats (itself based on HTML). XML is fat, ugly, and cumbersome to parse. However, it remains a major format due to its legacy usage across the web. Most people favor using a JSON API, if available. There are xml libraries for python as well: lxml, etree, sax, minidom"
   ]
  },
  {
   "cell_type": "markdown",
   "metadata": {
    "slideshow": {
     "slide_type": "slide"
    }
   },
   "source": [
    "# <center>Workshop</center>\n",
    "\n",
    "### Please download the notebooks to try this out.\n",
    "* RSS (notebook)\n",
    "* REST APIs with Authentication (notebook)\n",
    "* Scripting API Calls (script)"
   ]
  },
  {
   "cell_type": "markdown",
   "metadata": {
    "slideshow": {
     "slide_type": "slide"
    }
   },
   "source": [
    "# <center>Resources</center>"
   ]
  },
  {
   "cell_type": "markdown",
   "metadata": {
    "slideshow": {
     "slide_type": "subslide"
    }
   },
   "source": [
    "# <center>Command Line</center>\n",
    "\n",
    "* [Command Line Crash Course](https://learnpythonthehardway.org/book/appendixa.html) - \\*nix based users (Linux/ OS X)\n",
    "* [Effective Windows PowerShell](https://onedrive.live.com/view.aspx?resid=5A8D2641E0963A97!6929&ithint=file%2cpdf&app=WordPdf&authkey=!AJdUaNzW7L9yC18) - Windows users\n"
   ]
  },
  {
   "cell_type": "markdown",
   "metadata": {
    "slideshow": {
     "slide_type": "subslide"
    }
   },
   "source": [
    "# <center>Git and GitHub</center>\n",
    "\n",
    "There are a lot of online resources for using [Git](https://git-scm.com/) and [GitHub](https://github.com/). Here is a good one to start with [An Intro to Git and GitHub for Beginners (Tutorial)](http://product.hubspot.com/blog/git-and-github-tutorial-for-beginners)."
   ]
  },
  {
   "cell_type": "markdown",
   "metadata": {
    "slideshow": {
     "slide_type": "subslide"
    }
   },
   "source": [
    "# <center>Python </center>\n",
    "\n",
    "\n",
    "There are a lot of Python references available. I used [Learn Python the Hard Way](https://learnpythonthehardway.org/book/) and [Automate the Boring Stuff with Python](https://automatetheboringstuff.com/) when I was first learning. I like the challenges on [HackerRank](https://www.hackerrank.com/domains/python/py-introduction) to practice. The discussion on each challenge is great for seeing how other people approach the problem and to ask questions. The free beginner lesson on [DataQuest](https://www.dataquest.io/path/data-scientist) are also great if you are just starting out or want more practice."
   ]
  },
  {
   "cell_type": "markdown",
   "metadata": {
    "slideshow": {
     "slide_type": "subslide"
    }
   },
   "source": [
    "# <center>Presentation</center>\n",
    "\n",
    "I created this presentation using [Jupyter Notebook](http://jupyter.org/) and [reveal.js](http://lab.hakim.se/reveal-js/#/). It is being hosted as a [GitHub Project Page](https://pages.github.com/). I found a few resources out there for how to do this such as [Presentation slides with Jupyter Notebook](http://echorand.me/presentation-slides-with-jupyter-notebook.html#.WAeuWJMrJE4) and [Deploy reveal.js slideshow on github-pages](http://www.tikalk.com/devops/deploy-revealjs-slideshow-github-pages/). "
   ]
  },
  {
   "cell_type": "markdown",
   "metadata": {
    "slideshow": {
     "slide_type": "slide"
    }
   },
   "source": [
    "# <center>Stay in touch!</center>\n",
    "\n",
    "\n",
    "\n",
    "* Twitter: [@NicoleADonnelly](https://twitter.com/NicoleADonnelly)\n",
    "* GitHub: [nd1](https://github.com/nd1)\n",
    "* LinkedIn: [nicoleadonnelly](https://www.linkedin.com/in/nicoleadonnelly)\n",
    "* Email: [Nicole Donnelly](mailto:nicole@nicoledonnelly.me)"
   ]
  }
 ],
 "metadata": {
  "celltoolbar": "Slideshow",
  "kernelspec": {
   "display_name": "Python 3",
   "language": "python",
   "name": "python3"
  },
  "language_info": {
   "codemirror_mode": {
    "name": "ipython",
    "version": 3
   },
   "file_extension": ".py",
   "mimetype": "text/x-python",
   "name": "python",
   "nbconvert_exporter": "python",
   "pygments_lexer": "ipython3",
   "version": "3.5.2"
  }
 },
 "nbformat": 4,
 "nbformat_minor": 1
}
